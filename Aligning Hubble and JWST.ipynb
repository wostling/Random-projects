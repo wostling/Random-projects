{
 "cells": [
  {
   "cell_type": "code",
   "execution_count": 11,
   "id": "fdf30271",
   "metadata": {},
   "outputs": [],
   "source": [
    "import numpy as np\n",
    "import matplotlib.pyplot as plt\n",
    "import os\n",
    "import astropy\n",
    "from astropy.io import fits\n",
    "import pandas as pd\n",
    "from reproject import reproject_interp\n",
    "from astropy.wcs import WCS"
   ]
  },
  {
   "cell_type": "code",
   "execution_count": 12,
   "id": "bec38e5b",
   "metadata": {},
   "outputs": [],
   "source": [
    "def create_input(directory):\n",
    "    #directory is the explicit path to the folder with the fits files that need conversion\n",
    "    #example: '/Users/student/Desktop/Brown Dwarfs/DATA/'\n",
    "    df = pd.DataFrame(columns=['Localpath', 'Filename']) #create empty dataframe\n",
    "    for filename in os.listdir(directory): #iterate over fits files in location\n",
    "        f = os.path.join(directory, filename)\n",
    "        df = df.append({'Localpath':f, 'Filename':filename}, ignore_index=True)\n",
    "        \n",
    "    return df"
   ]
  },
  {
   "cell_type": "code",
   "execution_count": 32,
   "id": "88bb536b",
   "metadata": {},
   "outputs": [],
   "source": [
    "def align_images(input_dataframe, reference, output):\n",
    "    ref_image = fits.open(reference, ignore_missing_simple=True)\n",
    "    ref_image_data = ref_image[1]\n",
    "    for file in input_dataframe['Localpath']: \n",
    "        new_image = fits.open(file, ignore_missing_simple=True)\n",
    "        new_image_data = new_image[1]\n",
    "        print(\"read image file \" + file)\n",
    "        \n",
    "        array, footprint = reproject_interp(new_image_data, ref_image_data.header)\n",
    "        print(\"reprojected \" + file)\n",
    "        \n",
    "        filename = input_dataframe[\"Filename\"][input_dataframe[input_dataframe['Localpath'] == file].index[0]]\n",
    "        size = len(filename)\n",
    "        mod_filename = filename[:size - 5] + \"_registered.fits\"\n",
    "        \n",
    "        new_filepath = output + mod_filename\n",
    "        fits.writeto(new_filepath, array, new_image_data.header)\n",
    "        print(\"done \" + file)\n",
    "        new_image.close()\n",
    "    ref_image.close()"
   ]
  },
  {
   "cell_type": "code",
   "execution_count": 33,
   "id": "e649e3c2",
   "metadata": {},
   "outputs": [],
   "source": [
    "reference = \"C:/Users/willi/Desktop/M74/hst_10402_23_acs_wfc_f435w_j96r23_drc.fits\"\n",
    "directory = \"C:/Users/willi/Desktop/M74/\"\n",
    "output = \"C:/Users/willi/Desktop/M74/registered/\""
   ]
  },
  {
   "cell_type": "code",
   "execution_count": 19,
   "id": "2fb5b25c",
   "metadata": {},
   "outputs": [],
   "source": [
    "input_dataframe = create_input(directory) #remember to create registered folder after"
   ]
  },
  {
   "cell_type": "code",
   "execution_count": 24,
   "id": "2cfdb6bf",
   "metadata": {},
   "outputs": [
    {
     "data": {
      "text/html": [
       "<div>\n",
       "<style scoped>\n",
       "    .dataframe tbody tr th:only-of-type {\n",
       "        vertical-align: middle;\n",
       "    }\n",
       "\n",
       "    .dataframe tbody tr th {\n",
       "        vertical-align: top;\n",
       "    }\n",
       "\n",
       "    .dataframe thead th {\n",
       "        text-align: right;\n",
       "    }\n",
       "</style>\n",
       "<table border=\"1\" class=\"dataframe\">\n",
       "  <thead>\n",
       "    <tr style=\"text-align: right;\">\n",
       "      <th></th>\n",
       "      <th>Localpath</th>\n",
       "      <th>Filename</th>\n",
       "    </tr>\n",
       "  </thead>\n",
       "  <tbody>\n",
       "    <tr>\n",
       "      <th>0</th>\n",
       "      <td>C:/Users/willi/Desktop/M74/hst_10402_23_acs_wf...</td>\n",
       "      <td>hst_10402_23_acs_wfc_f435w_j96r23_drc.fits</td>\n",
       "    </tr>\n",
       "    <tr>\n",
       "      <th>1</th>\n",
       "      <td>C:/Users/willi/Desktop/M74/hst_10402_23_acs_wf...</td>\n",
       "      <td>hst_10402_23_acs_wfc_f555w_j96r23_drc.fits</td>\n",
       "    </tr>\n",
       "    <tr>\n",
       "      <th>2</th>\n",
       "      <td>C:/Users/willi/Desktop/M74/hst_10402_23_acs_wf...</td>\n",
       "      <td>hst_10402_23_acs_wfc_f658n_j96r23_drc.fits</td>\n",
       "    </tr>\n",
       "    <tr>\n",
       "      <th>3</th>\n",
       "      <td>C:/Users/willi/Desktop/M74/hst_10402_23_acs_wf...</td>\n",
       "      <td>hst_10402_23_acs_wfc_f814w_j96r23_drc.fits</td>\n",
       "    </tr>\n",
       "    <tr>\n",
       "      <th>4</th>\n",
       "      <td>C:/Users/willi/Desktop/M74/jw02107-o039_t018_m...</td>\n",
       "      <td>jw02107-o039_t018_miri_f1000w_i2d.fits</td>\n",
       "    </tr>\n",
       "    <tr>\n",
       "      <th>5</th>\n",
       "      <td>C:/Users/willi/Desktop/M74/jw02107-o039_t018_m...</td>\n",
       "      <td>jw02107-o039_t018_miri_f1130w_i2d.fits</td>\n",
       "    </tr>\n",
       "    <tr>\n",
       "      <th>6</th>\n",
       "      <td>C:/Users/willi/Desktop/M74/jw02107-o039_t018_m...</td>\n",
       "      <td>jw02107-o039_t018_miri_f2100w_i2d.fits</td>\n",
       "    </tr>\n",
       "    <tr>\n",
       "      <th>7</th>\n",
       "      <td>C:/Users/willi/Desktop/M74/jw02107-o039_t018_m...</td>\n",
       "      <td>jw02107-o039_t018_miri_f770w_i2d.fits</td>\n",
       "    </tr>\n",
       "  </tbody>\n",
       "</table>\n",
       "</div>"
      ],
      "text/plain": [
       "                                           Localpath  \\\n",
       "0  C:/Users/willi/Desktop/M74/hst_10402_23_acs_wf...   \n",
       "1  C:/Users/willi/Desktop/M74/hst_10402_23_acs_wf...   \n",
       "2  C:/Users/willi/Desktop/M74/hst_10402_23_acs_wf...   \n",
       "3  C:/Users/willi/Desktop/M74/hst_10402_23_acs_wf...   \n",
       "4  C:/Users/willi/Desktop/M74/jw02107-o039_t018_m...   \n",
       "5  C:/Users/willi/Desktop/M74/jw02107-o039_t018_m...   \n",
       "6  C:/Users/willi/Desktop/M74/jw02107-o039_t018_m...   \n",
       "7  C:/Users/willi/Desktop/M74/jw02107-o039_t018_m...   \n",
       "\n",
       "                                     Filename  \n",
       "0  hst_10402_23_acs_wfc_f435w_j96r23_drc.fits  \n",
       "1  hst_10402_23_acs_wfc_f555w_j96r23_drc.fits  \n",
       "2  hst_10402_23_acs_wfc_f658n_j96r23_drc.fits  \n",
       "3  hst_10402_23_acs_wfc_f814w_j96r23_drc.fits  \n",
       "4      jw02107-o039_t018_miri_f1000w_i2d.fits  \n",
       "5      jw02107-o039_t018_miri_f1130w_i2d.fits  \n",
       "6      jw02107-o039_t018_miri_f2100w_i2d.fits  \n",
       "7       jw02107-o039_t018_miri_f770w_i2d.fits  "
      ]
     },
     "execution_count": 24,
     "metadata": {},
     "output_type": "execute_result"
    }
   ],
   "source": [
    "input_dataframe "
   ]
  },
  {
   "cell_type": "code",
   "execution_count": 34,
   "id": "307e9c47",
   "metadata": {},
   "outputs": [
    {
     "name": "stdout",
     "output_type": "stream",
     "text": [
      "read image file C:/Users/willi/Desktop/M74/hst_10402_23_acs_wfc_f435w_j96r23_drc.fits\n",
      "reprojected C:/Users/willi/Desktop/M74/hst_10402_23_acs_wfc_f435w_j96r23_drc.fits\n",
      "done C:/Users/willi/Desktop/M74/hst_10402_23_acs_wfc_f435w_j96r23_drc.fits\n",
      "read image file C:/Users/willi/Desktop/M74/hst_10402_23_acs_wfc_f555w_j96r23_drc.fits\n",
      "reprojected C:/Users/willi/Desktop/M74/hst_10402_23_acs_wfc_f555w_j96r23_drc.fits\n",
      "done C:/Users/willi/Desktop/M74/hst_10402_23_acs_wfc_f555w_j96r23_drc.fits\n",
      "read image file C:/Users/willi/Desktop/M74/hst_10402_23_acs_wfc_f658n_j96r23_drc.fits\n",
      "reprojected C:/Users/willi/Desktop/M74/hst_10402_23_acs_wfc_f658n_j96r23_drc.fits\n",
      "done C:/Users/willi/Desktop/M74/hst_10402_23_acs_wfc_f658n_j96r23_drc.fits\n",
      "read image file C:/Users/willi/Desktop/M74/hst_10402_23_acs_wfc_f814w_j96r23_drc.fits\n",
      "reprojected C:/Users/willi/Desktop/M74/hst_10402_23_acs_wfc_f814w_j96r23_drc.fits\n",
      "done C:/Users/willi/Desktop/M74/hst_10402_23_acs_wfc_f814w_j96r23_drc.fits\n",
      "read image file C:/Users/willi/Desktop/M74/jw02107-o039_t018_miri_f1000w_i2d.fits\n"
     ]
    },
    {
     "name": "stderr",
     "output_type": "stream",
     "text": [
      "WARNING: FITSFixedWarning: 'datfix' made the change 'Set DATE-BEG to '2022-07-17T11:18:14.345' from MJD-BEG.\n",
      "Set DATE-AVG to '2022-07-17T12:11:28.948' from MJD-AVG.\n",
      "Set DATE-END to '2022-07-17T13:04:37.055' from MJD-END'. [astropy.wcs.wcs]\n",
      "WARNING: FITSFixedWarning: 'obsfix' made the change 'Set OBSGEO-L to   -70.086250 from OBSGEO-[XYZ].\n",
      "Set OBSGEO-B to   -37.754409 from OBSGEO-[XYZ].\n",
      "Set OBSGEO-H to 1738858318.105 from OBSGEO-[XYZ]'. [astropy.wcs.wcs]\n"
     ]
    },
    {
     "name": "stdout",
     "output_type": "stream",
     "text": [
      "reprojected C:/Users/willi/Desktop/M74/jw02107-o039_t018_miri_f1000w_i2d.fits\n",
      "done C:/Users/willi/Desktop/M74/jw02107-o039_t018_miri_f1000w_i2d.fits\n",
      "read image file C:/Users/willi/Desktop/M74/jw02107-o039_t018_miri_f1130w_i2d.fits\n"
     ]
    },
    {
     "name": "stderr",
     "output_type": "stream",
     "text": [
      "WARNING: FITSFixedWarning: 'datfix' made the change 'Set DATE-BEG to '2022-07-17T11:27:07.136' from MJD-BEG.\n",
      "Set DATE-AVG to '2022-07-17T12:21:53.573' from MJD-AVG.\n",
      "Set DATE-END to '2022-07-17T13:16:35.839' from MJD-END'. [astropy.wcs.wcs]\n",
      "WARNING: FITSFixedWarning: 'obsfix' made the change 'Set OBSGEO-L to   -70.084965 from OBSGEO-[XYZ].\n",
      "Set OBSGEO-B to   -37.753671 from OBSGEO-[XYZ].\n",
      "Set OBSGEO-H to 1738845821.921 from OBSGEO-[XYZ]'. [astropy.wcs.wcs]\n"
     ]
    },
    {
     "name": "stdout",
     "output_type": "stream",
     "text": [
      "reprojected C:/Users/willi/Desktop/M74/jw02107-o039_t018_miri_f1130w_i2d.fits\n",
      "done C:/Users/willi/Desktop/M74/jw02107-o039_t018_miri_f1130w_i2d.fits\n",
      "read image file C:/Users/willi/Desktop/M74/jw02107-o039_t018_miri_f2100w_i2d.fits\n"
     ]
    },
    {
     "name": "stderr",
     "output_type": "stream",
     "text": [
      "WARNING: FITSFixedWarning: 'datfix' made the change 'Set DATE-BEG to '2022-07-17T11:39:39.240' from MJD-BEG.\n",
      "Set DATE-AVG to '2022-07-17T12:34:31.886' from MJD-AVG.\n",
      "Set DATE-END to '2022-07-17T13:29:16.222' from MJD-END'. [astropy.wcs.wcs]\n",
      "WARNING: FITSFixedWarning: 'obsfix' made the change 'Set OBSGEO-L to   -70.083109 from OBSGEO-[XYZ].\n",
      "Set OBSGEO-B to   -37.752604 from OBSGEO-[XYZ].\n",
      "Set OBSGEO-H to 1738827753.648 from OBSGEO-[XYZ]'. [astropy.wcs.wcs]\n"
     ]
    },
    {
     "name": "stdout",
     "output_type": "stream",
     "text": [
      "reprojected C:/Users/willi/Desktop/M74/jw02107-o039_t018_miri_f2100w_i2d.fits\n",
      "done C:/Users/willi/Desktop/M74/jw02107-o039_t018_miri_f2100w_i2d.fits\n",
      "read image file C:/Users/willi/Desktop/M74/jw02107-o039_t018_miri_f770w_i2d.fits\n"
     ]
    },
    {
     "name": "stderr",
     "output_type": "stream",
     "text": [
      "WARNING: FITSFixedWarning: 'datfix' made the change 'Set DATE-BEG to '2022-07-17T11:08:48.206' from MJD-BEG.\n",
      "Set DATE-AVG to '2022-07-17T12:01:53.586' from MJD-AVG.\n",
      "Set DATE-END to '2022-07-17T12:54:46.016' from MJD-END'. [astropy.wcs.wcs]\n",
      "WARNING: FITSFixedWarning: 'obsfix' made the change 'Set OBSGEO-L to   -70.087393 from OBSGEO-[XYZ].\n",
      "Set OBSGEO-B to   -37.755065 from OBSGEO-[XYZ].\n",
      "Set OBSGEO-H to 1738869417.150 from OBSGEO-[XYZ]'. [astropy.wcs.wcs]\n"
     ]
    },
    {
     "name": "stdout",
     "output_type": "stream",
     "text": [
      "reprojected C:/Users/willi/Desktop/M74/jw02107-o039_t018_miri_f770w_i2d.fits\n",
      "done C:/Users/willi/Desktop/M74/jw02107-o039_t018_miri_f770w_i2d.fits\n"
     ]
    }
   ],
   "source": [
    "align_images(input_dataframe, reference, output)"
   ]
  }
 ],
 "metadata": {
  "kernelspec": {
   "display_name": "Python 3",
   "language": "python",
   "name": "python3"
  },
  "language_info": {
   "codemirror_mode": {
    "name": "ipython",
    "version": 3
   },
   "file_extension": ".py",
   "mimetype": "text/x-python",
   "name": "python",
   "nbconvert_exporter": "python",
   "pygments_lexer": "ipython3",
   "version": "3.8.8"
  }
 },
 "nbformat": 4,
 "nbformat_minor": 5
}
